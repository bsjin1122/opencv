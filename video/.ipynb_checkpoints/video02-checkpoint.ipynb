{
 "cells": [
  {
   "cell_type": "code",
   "execution_count": null,
   "id": "3fe921b4-4c8f-405d-9fc2-1a93811ed9f5",
   "metadata": {},
   "outputs": [],
   "source": [
    "import cv2\n",
    "import time\n",
    "#컴퓨터가 인간보다 영상을 빨리 읽기 위한 용도로 빠르게 재생됨\n",
    "\n",
    "cap = cv2.VideoCapture('../Computer-Vision-with-Python/DATA/finger_move.mp4')\n",
    "\n",
    "if cap.isOpened() == False:\n",
    "    print('ERROR FILE NOT FOUN OR WRONG CODE USED!')\n",
    "while cap.isOpened(): #실제로 재생되는 동안\n",
    "    ret, frame = cap.read() # 프레임을 생성\n",
    "    \n",
    "    if ret == True: # 프레임의 반환.\n",
    "        \n",
    "        # WRITER 20 FPS (FRAME PER SECOND)\n",
    "        #X초의 지연. 초당 프레임 속도보다 하나씩 늦춰져야 한다. \n",
    "        # 편집용이 아니라 재생용이라면, 코드 사용. \n",
    "        time.sleep(1/20) \n",
    "        \n",
    "        cv2.imshow('frame',frame)\n",
    "        \n",
    "        if cv2.waitKey(10) & 0xFF == ord('q'):\n",
    "            break\n",
    "    else: #기본적으로 캡쳐가 실제로 작동하거나 열려있는 동안에 \n",
    "        break\n",
    "        # 더는 아무것도 반환되지 않았다면, 프레임을 다 본 것이니 이 무한루프에서 벗어나세요.\n",
    "\n",
    "cap.release()\n",
    "cv2.destroyAllWindows()\n",
    "\n",
    "        "
   ]
  },
  {
   "cell_type": "code",
   "execution_count": null,
   "id": "0be10530-5e7e-44c6-9154-a06ec673aeb3",
   "metadata": {},
   "outputs": [],
   "source": []
  },
  {
   "cell_type": "code",
   "execution_count": null,
   "id": "6246528d-3ade-4c37-b059-58363e1a2b0c",
   "metadata": {},
   "outputs": [],
   "source": []
  }
 ],
 "metadata": {
  "kernelspec": {
   "display_name": "Python 3 (ipykernel)",
   "language": "python",
   "name": "python3"
  },
  "language_info": {
   "codemirror_mode": {
    "name": "ipython",
    "version": 3
   },
   "file_extension": ".py",
   "mimetype": "text/x-python",
   "name": "python",
   "nbconvert_exporter": "python",
   "pygments_lexer": "ipython3",
   "version": "3.10.9"
  }
 },
 "nbformat": 4,
 "nbformat_minor": 5
}
