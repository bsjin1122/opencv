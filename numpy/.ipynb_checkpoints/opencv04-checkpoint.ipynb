{
 "cells": [
  {
   "cell_type": "markdown",
   "id": "7d325874-7b6a-4071-a0ac-af14017113ad",
   "metadata": {},
   "source": [
    "## 마우스를 드래그함과 동시에 계산을 통해 직사각형을 그리는 방법"
   ]
  },
  {
   "cell_type": "code",
   "execution_count": null,
   "id": "a9a495de-d745-477c-9497-edbd549f634d",
   "metadata": {},
   "outputs": [],
   "source": [
    "import cv2\n",
    "import numpy as np\n",
    "\n",
    "# VARIABLES\n",
    "# True while mouse button down, False while mouse button UP\n",
    "drawing = False\n",
    "ix, iy = -1, -1\n",
    "\n",
    "\n",
    "# FUNCTION \n",
    "def draw_rectangle(event, x, y, flags, params):\n",
    "    global ix, iy, drawing \n",
    "    if event == cv2.EVENT_LBUTTONDOWN:\n",
    "        drawing = True\n",
    "        ix, iy = x, y\n",
    "        \n",
    "    elif event == cv2.EVENT_MOUSEMOVE:\n",
    "        if drawing == True:\n",
    "            cv2.rectangle(img, (ix, iy), (x, y), (0, 255, 0), -1)\n",
    "            \n",
    "    elif event == cv2.EVENT_LBUTTONUP:\n",
    "        drawing = False\n",
    "        cv2.rectangle(img, (ix, iy), (x, y), (0,255,0), -1)\n",
    " \n",
    "# SHOWING THE IMAGE\n",
    "\n",
    "# BLACK\n",
    "img = np.zeros((512, 512, 3))\n",
    "\n",
    "cv2.namedWindow(winname='my_drawing')\n",
    "\n",
    "cv2.setMouseCallback('my_drawing', draw_rectangle)\n",
    "\n",
    "while True:\n",
    "    cv2.imshow('my_drawing', img)\n",
    "    \n",
    "    # CHECKS FOR Esc\n",
    "    if cv2.waitKey(1) & 0xFF == 27:\n",
    "       break\n",
    "        \n",
    "cv2.destroyAllWindows()"
   ]
  },
  {
   "cell_type": "code",
   "execution_count": null,
   "id": "e8122074-a39b-4dfa-bb85-f3330305df05",
   "metadata": {},
   "outputs": [],
   "source": []
  }
 ],
 "metadata": {
  "kernelspec": {
   "display_name": "Python 3 (ipykernel)",
   "language": "python",
   "name": "python3"
  },
  "language_info": {
   "codemirror_mode": {
    "name": "ipython",
    "version": 3
   },
   "file_extension": ".py",
   "mimetype": "text/x-python",
   "name": "python",
   "nbconvert_exporter": "python",
   "pygments_lexer": "ipython3",
   "version": "3.10.9"
  }
 },
 "nbformat": 4,
 "nbformat_minor": 5
}
